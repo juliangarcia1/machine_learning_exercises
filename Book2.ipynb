{
 "cells": [
  {
   "cell_type": "code",
   "execution_count": 2,
   "metadata": {},
   "outputs": [
    {
     "name": "stdout",
     "output_type": "stream",
     "text": [
      "Class Mapping:\n",
      "bmw --> 0\n",
      "ford --> 1\n",
      "suziki --> 2\n",
      "toyota --> 3\n"
     ]
    }
   ],
   "source": [
    "from sklearn import preprocessing\n",
    "label_encoder = preprocessing.LabelEncoder()\n",
    "input_clases = ['suziki','ford','suziki','toyota','ford','bmw']\n",
    "label_encoder.fit(input_clases)\n",
    "print('Class Mapping:')\n",
    "for i, item in enumerate(label_encoder.classes_):\n",
    "    print(item,'-->', i)"
   ]
  },
  {
   "cell_type": "code",
   "execution_count": 3,
   "metadata": {},
   "outputs": [
    {
     "name": "stdout",
     "output_type": "stream",
     "text": [
      "Labels = ['toyota', 'ford', 'suziki']\n",
      "Encoded labels = [3, 1, 2]\n"
     ]
    }
   ],
   "source": [
    "labels = ['toyota','ford', 'suziki']\n",
    "encoded_labels = label_encoder.transform(labels)\n",
    "print('Labels =', labels)\n",
    "print('Encoded labels =', list(encoded_labels))"
   ]
  }
 ],
 "metadata": {
  "kernelspec": {
   "display_name": "Python 3",
   "language": "python",
   "name": "python3"
  },
  "language_info": {
   "codemirror_mode": {
    "name": "ipython",
    "version": 3
   },
   "file_extension": ".py",
   "mimetype": "text/x-python",
   "name": "python",
   "nbconvert_exporter": "python",
   "pygments_lexer": "ipython3",
   "version": "3.7.1"
  }
 },
 "nbformat": 4,
 "nbformat_minor": 2
}
